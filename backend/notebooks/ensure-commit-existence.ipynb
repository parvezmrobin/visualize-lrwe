{
 "cells": [
  {
   "cell_type": "code",
   "execution_count": 2,
   "metadata": {
    "collapsed": true
   },
   "outputs": [],
   "source": [
    "import pandas as pd\n",
    "import os"
   ]
  },
  {
   "cell_type": "code",
   "execution_count": 3,
   "outputs": [],
   "source": [
    "assert os.getcwd().endswith('notebooks')\n",
    "DATASET_DIR = '../dataset/lr+we/dataset'\n",
    "REPO_DIR = '../dataset/lr+we/repo'\n",
    "repo_name_of = {\n",
    "  'AspectJ': 'aspectj',\n",
    "  'Birt': 'birt',\n",
    "  'Eclipse_Platform_UI': 'eclipse.platform.ui',\n",
    "  'JDT': 'eclipse.jdt.ui',\n",
    "  'SWT': 'eclipse.platform.swt',\n",
    "  'Tomcat': 'tomcat',\n",
    "}"
   ],
   "metadata": {
    "collapsed": false,
    "pycharm": {
     "name": "#%%\n"
    }
   }
  },
  {
   "cell_type": "code",
   "execution_count": 8,
   "outputs": [],
   "source": [
    "import subprocess\n",
    "\n",
    "\n",
    "def assert_commit_existence(excel_file: str):\n",
    "  df = pd.read_excel(os.path.join(DATASET_DIR, f'{excel_file}.xlsx'))\n",
    "  current_sha_of = {}\n",
    "  for commit in df.commit:\n",
    "    try:\n",
    "      checkout_to(commit, repo_name_of[excel_file])\n",
    "      current_sha_of[str(commit)] = str(commit)\n",
    "    except subprocess.CalledProcessError as e:\n",
    "      assert isinstance(e.stderr, str)\n",
    "      error_lines = e.stderr.split('\\n')\n",
    "      assert error_lines[0] == f'error: short object ID {commit} is ambiguous', error_lines\n",
    "      # Error is in format --\n",
    "      # error: short object ID 7a5882a is ambiguous\n",
    "      # hint: The candidates are:\n",
    "      # hint:   7a5882abf8 commit 2006-08-14 - Fix for Bug 152170 [FilteredTree] Make it easier to use other viewers\n",
    "      # hint:   7a5882a826 tree\n",
    "      # error: pathspec '7a5882a' did not match any file(s) known to git\n",
    "      #\n",
    "      # Therefore, first (error, hint1) and last (error, empty) two lines\n",
    "      # are useless. In the useful lines, words at 1 and 2 indices are useful.\n",
    "      matches = map(lambda line: line.split()[1: 3], error_lines[2:-2])\n",
    "      matches = list(filter(lambda match: match[1] == 'commit', matches))\n",
    "      timestamps = list(map(lambda match: int(subprocess.run(\n",
    "        f'git show -s --format=%ct {match[0]}',\n",
    "        shell=True,\n",
    "        cwd=os.path.join(REPO_DIR, repo_name_of[excel_file]),\n",
    "        capture_output=True,\n",
    "        check=True,\n",
    "        encoding='utf-8',\n",
    "      ).stdout.strip()), matches))\n",
    "      assert timestamps[0] == min(timestamps)\n",
    "      checkout_to(matches[0][0], repo_name_of[excel_file])\n",
    "      current_sha_of[str(commit)] = matches[0][0]\n",
    "\n",
    "  return current_sha_of\n",
    "\n",
    "\n",
    "def checkout_to(commit, repo_name):\n",
    "  subprocess.run(\n",
    "    f'git checkout {commit}',\n",
    "    shell=True,\n",
    "    cwd=os.path.join(REPO_DIR, repo_name),\n",
    "    capture_output=True,\n",
    "    check=True,\n",
    "    encoding='utf-8',\n",
    "  )"
   ],
   "metadata": {
    "collapsed": false,
    "pycharm": {
     "name": "#%%\n"
    }
   }
  },
  {
   "cell_type": "code",
   "execution_count": 10,
   "outputs": [
    {
     "ename": "AssertionError",
     "evalue": "[\"error: pathspec '345f01b' did not match any file(s) known to git\", '']",
     "output_type": "error",
     "traceback": [
      "\u001B[1;31m---------------------------------------------------------------------------\u001B[0m",
      "\u001B[1;31mCalledProcessError\u001B[0m                        Traceback (most recent call last)",
      "Input \u001B[1;32mIn [8]\u001B[0m, in \u001B[0;36massert_commit_existence\u001B[1;34m(excel_file)\u001B[0m\n\u001B[0;32m      8\u001B[0m \u001B[38;5;28;01mtry\u001B[39;00m:\n\u001B[1;32m----> 9\u001B[0m   \u001B[43mcheckout_to\u001B[49m\u001B[43m(\u001B[49m\u001B[43mcommit\u001B[49m\u001B[43m,\u001B[49m\u001B[43m \u001B[49m\u001B[43mrepo_name_of\u001B[49m\u001B[43m[\u001B[49m\u001B[43mexcel_file\u001B[49m\u001B[43m]\u001B[49m\u001B[43m)\u001B[49m\n\u001B[0;32m     10\u001B[0m   current_sha_of[\u001B[38;5;28mstr\u001B[39m(commit)] \u001B[38;5;241m=\u001B[39m \u001B[38;5;28mstr\u001B[39m(commit)\n",
      "Input \u001B[1;32mIn [8]\u001B[0m, in \u001B[0;36mcheckout_to\u001B[1;34m(commit, repo_name)\u001B[0m\n\u001B[0;32m     41\u001B[0m \u001B[38;5;28;01mdef\u001B[39;00m \u001B[38;5;21mcheckout_to\u001B[39m(commit, repo_name):\n\u001B[1;32m---> 42\u001B[0m   \u001B[43msubprocess\u001B[49m\u001B[38;5;241;43m.\u001B[39;49m\u001B[43mrun\u001B[49m\u001B[43m(\u001B[49m\n\u001B[0;32m     43\u001B[0m \u001B[43m    \u001B[49m\u001B[38;5;124;43mf\u001B[39;49m\u001B[38;5;124;43m'\u001B[39;49m\u001B[38;5;124;43mgit checkout \u001B[39;49m\u001B[38;5;132;43;01m{\u001B[39;49;00m\u001B[43mcommit\u001B[49m\u001B[38;5;132;43;01m}\u001B[39;49;00m\u001B[38;5;124;43m'\u001B[39;49m\u001B[43m,\u001B[49m\n\u001B[0;32m     44\u001B[0m \u001B[43m    \u001B[49m\u001B[43mshell\u001B[49m\u001B[38;5;241;43m=\u001B[39;49m\u001B[38;5;28;43;01mTrue\u001B[39;49;00m\u001B[43m,\u001B[49m\n\u001B[0;32m     45\u001B[0m \u001B[43m    \u001B[49m\u001B[43mcwd\u001B[49m\u001B[38;5;241;43m=\u001B[39;49m\u001B[43mos\u001B[49m\u001B[38;5;241;43m.\u001B[39;49m\u001B[43mpath\u001B[49m\u001B[38;5;241;43m.\u001B[39;49m\u001B[43mjoin\u001B[49m\u001B[43m(\u001B[49m\u001B[43mREPO_DIR\u001B[49m\u001B[43m,\u001B[49m\u001B[43m \u001B[49m\u001B[43mrepo_name\u001B[49m\u001B[43m)\u001B[49m\u001B[43m,\u001B[49m\n\u001B[0;32m     46\u001B[0m \u001B[43m    \u001B[49m\u001B[43mcapture_output\u001B[49m\u001B[38;5;241;43m=\u001B[39;49m\u001B[38;5;28;43;01mTrue\u001B[39;49;00m\u001B[43m,\u001B[49m\n\u001B[0;32m     47\u001B[0m \u001B[43m    \u001B[49m\u001B[43mcheck\u001B[49m\u001B[38;5;241;43m=\u001B[39;49m\u001B[38;5;28;43;01mTrue\u001B[39;49;00m\u001B[43m,\u001B[49m\n\u001B[0;32m     48\u001B[0m \u001B[43m    \u001B[49m\u001B[43mencoding\u001B[49m\u001B[38;5;241;43m=\u001B[39;49m\u001B[38;5;124;43m'\u001B[39;49m\u001B[38;5;124;43mutf-8\u001B[39;49m\u001B[38;5;124;43m'\u001B[39;49m\u001B[43m,\u001B[49m\n\u001B[0;32m     49\u001B[0m \u001B[43m  \u001B[49m\u001B[43m)\u001B[49m\n",
      "File \u001B[1;32m~\\AppData\\Local\\Programs\\Python\\Python39\\lib\\subprocess.py:528\u001B[0m, in \u001B[0;36mrun\u001B[1;34m(input, capture_output, timeout, check, *popenargs, **kwargs)\u001B[0m\n\u001B[0;32m    527\u001B[0m     \u001B[38;5;28;01mif\u001B[39;00m check \u001B[38;5;129;01mand\u001B[39;00m retcode:\n\u001B[1;32m--> 528\u001B[0m         \u001B[38;5;28;01mraise\u001B[39;00m CalledProcessError(retcode, process\u001B[38;5;241m.\u001B[39margs,\n\u001B[0;32m    529\u001B[0m                                  output\u001B[38;5;241m=\u001B[39mstdout, stderr\u001B[38;5;241m=\u001B[39mstderr)\n\u001B[0;32m    530\u001B[0m \u001B[38;5;28;01mreturn\u001B[39;00m CompletedProcess(process\u001B[38;5;241m.\u001B[39margs, retcode, stdout, stderr)\n",
      "\u001B[1;31mCalledProcessError\u001B[0m: Command 'git checkout 345f01b' returned non-zero exit status 1.",
      "\nDuring handling of the above exception, another exception occurred:\n",
      "\u001B[1;31mAssertionError\u001B[0m                            Traceback (most recent call last)",
      "Input \u001B[1;32mIn [10]\u001B[0m, in \u001B[0;36m<module>\u001B[1;34m\u001B[0m\n\u001B[0;32m      4\u001B[0m \u001B[38;5;28;01mif\u001B[39;00m filename \u001B[38;5;129;01mnot\u001B[39;00m \u001B[38;5;129;01min\u001B[39;00m [\u001B[38;5;124m'\u001B[39m\u001B[38;5;124mBirt\u001B[39m\u001B[38;5;124m'\u001B[39m]:\n\u001B[0;32m      5\u001B[0m   \u001B[38;5;28;01mcontinue\u001B[39;00m\n\u001B[1;32m----> 7\u001B[0m commit_map \u001B[38;5;241m=\u001B[39m \u001B[43massert_commit_existence\u001B[49m\u001B[43m(\u001B[49m\u001B[43mfilename\u001B[49m\u001B[43m)\u001B[49m\n\u001B[0;32m      8\u001B[0m \u001B[38;5;28;01mwith\u001B[39;00m \u001B[38;5;28mopen\u001B[39m(\u001B[38;5;124mf\u001B[39m\u001B[38;5;124m'\u001B[39m\u001B[38;5;132;01m{\u001B[39;00mfilename\u001B[38;5;132;01m}\u001B[39;00m\u001B[38;5;124m-commit-map.json\u001B[39m\u001B[38;5;124m'\u001B[39m, \u001B[38;5;124m'\u001B[39m\u001B[38;5;124mw\u001B[39m\u001B[38;5;124m'\u001B[39m) \u001B[38;5;28;01mas\u001B[39;00m commit_map_file:\n\u001B[0;32m      9\u001B[0m   json\u001B[38;5;241m.\u001B[39mdump(commit_map, commit_map_file)\n",
      "Input \u001B[1;32mIn [8]\u001B[0m, in \u001B[0;36massert_commit_existence\u001B[1;34m(excel_file)\u001B[0m\n\u001B[0;32m     12\u001B[0m \u001B[38;5;28;01massert\u001B[39;00m \u001B[38;5;28misinstance\u001B[39m(e\u001B[38;5;241m.\u001B[39mstderr, \u001B[38;5;28mstr\u001B[39m)\n\u001B[0;32m     13\u001B[0m error_lines \u001B[38;5;241m=\u001B[39m e\u001B[38;5;241m.\u001B[39mstderr\u001B[38;5;241m.\u001B[39msplit(\u001B[38;5;124m'\u001B[39m\u001B[38;5;130;01m\\n\u001B[39;00m\u001B[38;5;124m'\u001B[39m)\n\u001B[1;32m---> 14\u001B[0m \u001B[38;5;28;01massert\u001B[39;00m error_lines[\u001B[38;5;241m0\u001B[39m] \u001B[38;5;241m==\u001B[39m \u001B[38;5;124mf\u001B[39m\u001B[38;5;124m'\u001B[39m\u001B[38;5;124merror: short object ID \u001B[39m\u001B[38;5;132;01m{\u001B[39;00mcommit\u001B[38;5;132;01m}\u001B[39;00m\u001B[38;5;124m is ambiguous\u001B[39m\u001B[38;5;124m'\u001B[39m, error_lines\n\u001B[0;32m     15\u001B[0m \u001B[38;5;66;03m# Error is in format --\u001B[39;00m\n\u001B[0;32m     16\u001B[0m \u001B[38;5;66;03m# error: short object ID 7a5882a is ambiguous\u001B[39;00m\n\u001B[0;32m     17\u001B[0m \u001B[38;5;66;03m# hint: The candidates are:\u001B[39;00m\n\u001B[1;32m   (...)\u001B[0m\n\u001B[0;32m     22\u001B[0m \u001B[38;5;66;03m# Therefore, first (error, hint1) and last (error, empty) two lines\u001B[39;00m\n\u001B[0;32m     23\u001B[0m \u001B[38;5;66;03m# are useless. In the useful lines, words at 1 and 2 indices are useful.\u001B[39;00m\n\u001B[0;32m     24\u001B[0m matches \u001B[38;5;241m=\u001B[39m \u001B[38;5;28mmap\u001B[39m(\u001B[38;5;28;01mlambda\u001B[39;00m line: line\u001B[38;5;241m.\u001B[39msplit()[\u001B[38;5;241m1\u001B[39m: \u001B[38;5;241m3\u001B[39m], error_lines[\u001B[38;5;241m2\u001B[39m:\u001B[38;5;241m-\u001B[39m\u001B[38;5;241m2\u001B[39m])\n",
      "\u001B[1;31mAssertionError\u001B[0m: [\"error: pathspec '345f01b' did not match any file(s) known to git\", '']"
     ]
    }
   ],
   "source": [
    "import json\n",
    "\n",
    "for filename in repo_name_of.keys():\n",
    "  if filename in ['AspectJ', 'Birt']:\n",
    "    continue\n",
    "\n",
    "  commit_map = assert_commit_existence(filename)\n",
    "  with open(f'{filename}-commit-map.json', 'w') as commit_map_file:\n",
    "    json.dump(commit_map, commit_map_file)\n",
    "  print('Completed', filename)"
   ],
   "metadata": {
    "collapsed": false,
    "pycharm": {
     "name": "#%%\n"
    }
   }
  },
  {
   "cell_type": "code",
   "execution_count": 10,
   "outputs": [],
   "source": [],
   "metadata": {
    "collapsed": false,
    "pycharm": {
     "name": "#%%\n"
    }
   }
  },
  {
   "cell_type": "code",
   "execution_count": null,
   "outputs": [],
   "source": [],
   "metadata": {
    "collapsed": false,
    "pycharm": {
     "name": "#%%\n"
    }
   }
  }
 ],
 "metadata": {
  "kernelspec": {
   "display_name": "Python 3",
   "language": "python",
   "name": "python3"
  },
  "language_info": {
   "codemirror_mode": {
    "name": "ipython",
    "version": 2
   },
   "file_extension": ".py",
   "mimetype": "text/x-python",
   "name": "python",
   "nbconvert_exporter": "python",
   "pygments_lexer": "ipython2",
   "version": "2.7.6"
  }
 },
 "nbformat": 4,
 "nbformat_minor": 0
}
{
 "cells": [
  {
   "cell_type": "markdown",
   "metadata": {
    "collapsed": true,
    "pycharm": {
     "name": "#%% md\n"
    }
   },
   "source": [
    "## Bug Localization\n",
    "> From word embeddings to document similarities for improved information retrieval in software engineering"
   ]
  },
  {
   "cell_type": "markdown",
   "source": [
    "## Download & Prepare Embedding"
   ],
   "metadata": {
    "collapsed": false,
    "pycharm": {
     "name": "#%% md\n"
    }
   }
  },
  {
   "cell_type": "code",
   "execution_count": 1,
   "outputs": [],
   "source": [],
   "metadata": {
    "collapsed": false,
    "pycharm": {
     "name": "#%%\n"
    }
   }
  },
  {
   "cell_type": "code",
   "execution_count": 4,
   "outputs": [
    {
     "name": "stdout",
     "output_type": "stream",
     "text": [
      "Word: the | Embedding length: 300 | Average embedding: 0.012745229333333346\n",
      "Word: , | Embedding length: 300 | Average embedding: 0.0007780473333333343\n",
      "Word: . | Embedding length: 300 | Average embedding: -0.006237918633333331\n",
      "Word: of | Embedding length: 300 | Average embedding: 0.0015422149999999963\n",
      "Word: to | Embedding length: 300 | Average embedding: -0.006732391166666662\n"
     ]
    }
   ],
   "source": [],
   "metadata": {
    "collapsed": false,
    "pycharm": {
     "name": "#%%\n"
    }
   }
  },
  {
   "cell_type": "code",
   "execution_count": 7,
   "outputs": [
    {
     "data": {
      "text/plain": "  0%|          | 0/400000 [00:00<?, ?it/s]",
      "application/vnd.jupyter.widget-view+json": {
       "version_major": 2,
       "version_minor": 0,
       "model_id": "947df5171cf64ccbb72061bbe9d4a06c"
      }
     },
     "metadata": {},
     "output_type": "display_data"
    },
    {
     "name": "stdout",
     "output_type": "stream",
     "text": [
      "Found 400000 words in the embedding.\n",
      "Embedding dimension: 300\n"
     ]
    }
   ],
   "source": [],
   "metadata": {
    "collapsed": false,
    "pycharm": {
     "name": "#%%\n"
    }
   }
  },
  {
   "cell_type": "markdown",
   "source": [
    "## Index Repository"
   ],
   "metadata": {
    "collapsed": false
   }
  },
  {
   "cell_type": "code",
   "execution_count": 21,
   "outputs": [],
   "source": [],
   "metadata": {
    "collapsed": false,
    "pycharm": {
     "name": "#%%\n"
    }
   }
  },
  {
   "cell_type": "code",
   "execution_count": 22,
   "outputs": [],
   "source": [
    "REPO_DIR = '../dataset/lr+we/repo/tomcat'\n",
    "aspectj_files = dict(get_java_files_from(REPO_DIR))"
   ],
   "metadata": {
    "collapsed": false,
    "pycharm": {
     "name": "#%%\n"
    }
   }
  },
  {
   "cell_type": "code",
   "execution_count": 23,
   "outputs": [
    {
     "name": "stdout",
     "output_type": "stream",
     "text": [
      "Filename: ../dataset/lr+we/repo/aspectj\\doc\\aspectj121\\examples\\bean\\BoundPoint.java\n",
      "/*\n",
      " * Copyright (c) 1998-2002 Xerox Corporation,\n",
      " *               2004 Contributors.  All rights reserved.\n",
      " *\n",
      " * Use and copying of this software and preparation of derivative works based\n",
      " * upon this software are permitted.  Any distribution of this software or\n",
      " * derivative works must comply with all applicable United States export\n",
      " * control laws.\n",
      " *\n",
      " * This software is made available AS IS, and Xerox Corporation makes no\n",
      " * warranty about the software, its performance or its conformity to any\n",
      " * specification.\n",
      " */\n",
      "\n",
      "package bean;\n",
      "\n",
      "import java.beans.*;\n",
      "import java.io.Serializable;\n",
      "\n",
      "/**\n",
      " * Add bound properties and serialization to Point objects\n",
      " */\n",
      "aspect BoundPoint {\n",
      "  /*\n",
      "   * privately declare a field on Point to hold the property\n",
      "   * change support object.  `this' is a reference to a Point object.\n",
      "   */\n",
      "  private PropertyChangeSupport Point.support = new PropertyChangeSupport(this);\n",
      "\n",
      "  /*\n",
      "   * Declare property change registration methods on Point,\n",
      "   * and introduce implementation of the Serializable interface.\n",
      "   */\n",
      "   \n",
      "  public void Point.addPropertyChangeListener(PropertyChangeListener listener){\n",
      "    support.addPropertyChangeListener(listener);\n",
      "  }\n",
      "\n",
      "  public void Point.addPropertyChangeListener(String propertyName,\n",
      "                                              PropertyChangeListener listener){\n",
      "    support.addPropertyChangeListener(propertyName, listener);\n",
      "  }\n",
      "\n",
      "  public void Point.removePropertyChangeListener(String propertyName,\n",
      "                                                 PropertyChangeListener listener) {\n",
      "    support.removePropertyChangeListener(propertyName, listener);\n",
      "  }\n",
      "\n",
      "  public void Point.removePropertyChangeListener(PropertyChangeListener listener) {\n",
      "    support.removePropertyChangeListener(listener);\n",
      "  }\n",
      "\n",
      "  public void Point.hasListeners(String propertyName) {\n",
      "    support.hasListeners(propertyName);\n",
      "  }\n",
      "\n",
      "  declare parents: Point implements Serializable;\n",
      "\n",
      "  /**\n",
      "   * Send property change event after X setter completes normally.\n",
      "   * Use around advice to keep the old value on the stack.\n",
      "   */\n",
      "  void around(Point p): execution(void Point.setX(int)) && target(p) {\n",
      "      int oldValue = p.getX();\n",
      "      proceed(p);\n",
      "      firePropertyChange(p, \"x\", oldValue, p.getX());\n",
      "  }\n",
      "\n",
      "  /**\n",
      "   * Send property change event after Y setter completes normally.\n",
      "   * Use around advice to keep the old value on the stack.\n",
      "   */\n",
      "  void around(Point p): execution(void Point.setY(int)) && target(p) {\n",
      "      int oldValue = p.getY();\n",
      "      proceed(p);\n",
      "      firePropertyChange(p, \"y\", oldValue, p.getY());\n",
      "  }\n",
      "  \n",
      "  /*\n",
      "   * Utility to fire the property change event.\n",
      "   */\n",
      "  void firePropertyChange(Point p,\n",
      "                          String property,\n",
      "                          double oldval,\n",
      "                          double newval) {        \n",
      "        p.support.firePropertyChange(property,\n",
      "                                 new Double(oldval),\n",
      "                                 new Double(newval));\n",
      "  }\n",
      "}\n",
      "\n"
     ]
    }
   ],
   "source": [
    "first_filename = list(aspectj_files.keys())[0]\n",
    "first_file = aspectj_files[first_filename]\n",
    "print(f'Filename: {first_filename}')\n",
    "print(first_file)"
   ],
   "metadata": {
    "collapsed": false,
    "pycharm": {
     "name": "#%%\n"
    }
   }
  },
  {
   "cell_type": "markdown",
   "source": [
    "### Tokenize"
   ],
   "metadata": {
    "collapsed": false,
    "pycharm": {
     "name": "#%% md\n"
    }
   }
  },
  {
   "cell_type": "code",
   "execution_count": 46,
   "outputs": [
    {
     "name": "stdout",
     "output_type": "stream",
     "text": [
      "Avg found ration: 0.7403787901443495\n"
     ]
    }
   ],
   "source": [
    "\n",
    "\n",
    "\n",
    "\n",
    "\n",
    "\n"
   ],
   "metadata": {
    "collapsed": false,
    "pycharm": {
     "name": "#%%\n"
    }
   }
  },
  {
   "cell_type": "code",
   "execution_count": 40,
   "outputs": [
    {
     "name": "stdout",
     "output_type": "stream",
     "text": [
      "euro1\n",
      "update1\n",
      "h1n1\n",
      "h5n1\n",
      "g8\n",
      "euro2\n",
      "f1\n",
      "g20\n",
      "euro3\n",
      "twenty20\n"
     ]
    }
   ],
   "source": [],
   "metadata": {
    "collapsed": false,
    "pycharm": {
     "name": "#%%\n"
    }
   }
  },
  {
   "cell_type": "code",
   "execution_count": 35,
   "outputs": [
    {
     "data": {
      "text/plain": "False"
     },
     "execution_count": 35,
     "metadata": {},
     "output_type": "execute_result"
    }
   ],
   "source": [],
   "metadata": {
    "collapsed": false,
    "pycharm": {
     "name": "#%%\n"
    }
   }
  }
 ],
 "metadata": {
  "kernelspec": {
   "display_name": "Python 3",
   "language": "python",
   "name": "python3"
  },
  "language_info": {
   "codemirror_mode": {
    "name": "ipython",
    "version": 2
   },
   "file_extension": ".py",
   "mimetype": "text/x-python",
   "name": "python",
   "nbconvert_exporter": "python",
   "pygments_lexer": "ipython2",
   "version": "2.7.6"
  }
 },
 "nbformat": 4,
 "nbformat_minor": 0
}